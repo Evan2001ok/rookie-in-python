{
 "cells": [
  {
   "cell_type": "code",
   "execution_count": 17,
   "id": "6784c186-aebd-47ca-b2b4-7ee7cabcf49e",
   "metadata": {},
   "outputs": [
    {
     "name": "stdout",
     "output_type": "stream",
     "text": [
      "The weather for today will be cloudy with a temperature of 68.5 degrees.\n",
      "The weather for tomorrow will be sunny with a temperature of 74.8 degrees.\n",
      "The weather for today will be cloudy with a temperature of 68.5 degrees.\n",
      "The weather for tomorrow will be sunny with a temperature of 74.8 degrees.\n"
     ]
    }
   ],
   "source": [
    "def weather1():\n",
    "    dir = [['today','cloudy','68.5'],['tomorrow','sunny','74.8']]#Nested Lists\n",
    "    for x in dir:\n",
    "        print(f'The weather for {x[0]} will be {x[1]} with a temperature of {x[2]} degrees.')\n",
    "        \n",
    "def weather2():\n",
    "    dir = [{'day': 'today', 'weather': 'cloudy', 'degree': '68.5'}, {'day': 'tomorrow', 'weather': 'sunny', 'degree': '74.8'}]\n",
    "    for x in dir:\n",
    "        print(f\"The weather for {x['day']} will be {x['weather']} with a temperature of {x['degree']} degrees.\")\n",
    "\n",
    "weather1()\n",
    "weather2()"
   ]
  },
  {
   "cell_type": "code",
   "execution_count": null,
   "id": "43623774-7f3f-4d5a-aa79-1ffb92f4233c",
   "metadata": {},
   "outputs": [],
   "source": []
  }
 ],
 "metadata": {
  "kernelspec": {
   "display_name": "Python 3 (ipykernel)",
   "language": "python",
   "name": "python3"
  },
  "language_info": {
   "codemirror_mode": {
    "name": "ipython",
    "version": 3
   },
   "file_extension": ".py",
   "mimetype": "text/x-python",
   "name": "python",
   "nbconvert_exporter": "python",
   "pygments_lexer": "ipython3",
   "version": "3.11.7"
  }
 },
 "nbformat": 4,
 "nbformat_minor": 5
}

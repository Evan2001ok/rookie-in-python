{
 "cells": [
  {
   "cell_type": "code",
   "execution_count": 5,
   "id": "dc782b21-e0ee-4f0d-b86b-604f8c682417",
   "metadata": {},
   "outputs": [
    {
     "data": {
      "text/plain": [
       "False"
      ]
     },
     "execution_count": 5,
     "metadata": {},
     "output_type": "execute_result"
    }
   ],
   "source": [
    "def starts_with(A, B):\n",
    "    length = len(A)\n",
    "    if A == B[0:length]:\n",
    "        return True\n",
    "    else:\n",
    "        return False\n",
    "starts_with('bill', 'electric bill')"
   ]
  },
  {
   "cell_type": "code",
   "execution_count": null,
   "id": "a4caff83-44c6-4713-889a-ce1b507fcde9",
   "metadata": {},
   "outputs": [],
   "source": []
  }
 ],
 "metadata": {
  "kernelspec": {
   "display_name": "Python 3 (ipykernel)",
   "language": "python",
   "name": "python3"
  },
  "language_info": {
   "codemirror_mode": {
    "name": "ipython",
    "version": 3
   },
   "file_extension": ".py",
   "mimetype": "text/x-python",
   "name": "python",
   "nbconvert_exporter": "python",
   "pygments_lexer": "ipython3",
   "version": "3.11.7"
  }
 },
 "nbformat": 4,
 "nbformat_minor": 5
}

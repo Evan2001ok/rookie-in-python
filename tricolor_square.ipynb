{
 "cells": [
  {
   "cell_type": "code",
   "execution_count": 1,
   "id": "fff5a51c-8669-400e-997b-195acc4bc966",
   "metadata": {},
   "outputs": [],
   "source": [
    "import turtle\n",
    "amy = turtle.Turtle()\n",
    "turtle.bgcolor(\"black\")\n",
    "colors = [\"red\", \"orange\", \"yellow\"]\n",
    "sides = [1,2,3,4]\n",
    "amy.penup()\n",
    "amy.forward(-140)\n",
    "amy.pendown()\n",
    "\n",
    "for color in colors:\n",
    "    amy.color(color)\n",
    "    for side in sides:\n",
    "        amy.forward(50)\n",
    "        amy.right(90)\n",
    "    amy.penup()\n",
    "    amy.forward(100)\n",
    "    amy.pendown()\n",
    "\n",
    "    "
   ]
  },
  {
   "cell_type": "code",
   "execution_count": null,
   "id": "d9328b2e-4f40-424a-bc45-b4481567b69b",
   "metadata": {},
   "outputs": [],
   "source": []
  }
 ],
 "metadata": {
  "kernelspec": {
   "display_name": "Python 3 (ipykernel)",
   "language": "python",
   "name": "python3"
  },
  "language_info": {
   "codemirror_mode": {
    "name": "ipython",
    "version": 3
   },
   "file_extension": ".py",
   "mimetype": "text/x-python",
   "name": "python",
   "nbconvert_exporter": "python",
   "pygments_lexer": "ipython3",
   "version": "3.11.7"
  }
 },
 "nbformat": 4,
 "nbformat_minor": 5
}

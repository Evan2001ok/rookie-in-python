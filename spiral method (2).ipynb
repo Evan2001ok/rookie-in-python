{
 "cells": [
  {
   "cell_type": "code",
   "execution_count": null,
   "id": "c0b9c00b-5769-438f-98e0-3914c7a06335",
   "metadata": {},
   "outputs": [],
   "source": [
    "import turtle\n",
    "\n",
    "def spiral(sides,angle,color,width):\n",
    "    amy = turtle.Turtle()\n",
    "    turtle.bgcolor(\"black\")\n",
    "    amy.color(color)\n",
    "    amy.width(width)\n",
    "    for side in range(sides):\n",
    "        amy.forward(side)\n",
    "        amy.right(angle)\n",
    "spiral(150,-30,\"blue\",10)\n"
   ]
  },
  {
   "cell_type": "code",
   "execution_count": null,
   "id": "e164c5d8-a50a-430d-adf7-9cba50dc75d0",
   "metadata": {},
   "outputs": [],
   "source": []
  }
 ],
 "metadata": {
  "kernelspec": {
   "display_name": "Python 3 (ipykernel)",
   "language": "python",
   "name": "python3"
  },
  "language_info": {
   "codemirror_mode": {
    "name": "ipython",
    "version": 3
   },
   "file_extension": ".py",
   "mimetype": "text/x-python",
   "name": "python",
   "nbconvert_exporter": "python",
   "pygments_lexer": "ipython3",
   "version": "3.11.7"
  }
 },
 "nbformat": 4,
 "nbformat_minor": 5
}

{
 "cells": [
  {
   "cell_type": "code",
   "execution_count": 2,
   "id": "25560a18-6037-40fb-a321-0eec8c38c080",
   "metadata": {},
   "outputs": [
    {
     "name": "stdin",
     "output_type": "stream",
     "text": [
      "please type you first input____ 1\n",
      "please type you second input____ 2\n",
      "please type you third input____ 3\n"
     ]
    },
    {
     "name": "stdout",
     "output_type": "stream",
     "text": [
      "sum is 6\n"
     ]
    }
   ],
   "source": [
    "def total_of_three():\n",
    "    one = input(\"please type you first input____\")\n",
    "    two = input(\"please type you second input____\")\n",
    "    three = input(\"please type you third input____\")\n",
    "    word = int(one) + int(two) + int(three)\n",
    "    print(f\"sum is {word}\")\n",
    "total_of_three()"
   ]
  },
  {
   "cell_type": "code",
   "execution_count": null,
   "id": "47f207e6-8381-475c-b4e8-c951a3669f74",
   "metadata": {},
   "outputs": [],
   "source": []
  }
 ],
 "metadata": {
  "kernelspec": {
   "display_name": "Python 3 (ipykernel)",
   "language": "python",
   "name": "python3"
  },
  "language_info": {
   "codemirror_mode": {
    "name": "ipython",
    "version": 3
   },
   "file_extension": ".py",
   "mimetype": "text/x-python",
   "name": "python",
   "nbconvert_exporter": "python",
   "pygments_lexer": "ipython3",
   "version": "3.11.7"
  }
 },
 "nbformat": 4,
 "nbformat_minor": 5
}

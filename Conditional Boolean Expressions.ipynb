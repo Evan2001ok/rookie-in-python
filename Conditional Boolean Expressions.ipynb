{
 "cells": [
  {
   "cell_type": "code",
   "execution_count": 10,
   "id": "6c746a0d-ecbf-4617-af6e-983138a0e7e1",
   "metadata": {},
   "outputs": [
    {
     "name": "stdout",
     "output_type": "stream",
     "text": [
      "you got a wafer-thin mint\n"
     ]
    }
   ],
   "source": [
    "def ok():\n",
    "    points = 174  # use this as input for your submission\n",
    "    \n",
    "    prize = None\n",
    "\n",
    "    if points <= 50 and points >= 1:\n",
    "        prize = \"a wooden rabbit\"\n",
    "    elif points <= 150 and points >= 51:\n",
    "        prize = \"\"\n",
    "    elif points <= 180 and points >= 151:\n",
    "        prize = \"a wafer-thin mint\"\n",
    "    elif points <= 200 and points >= 181:\n",
    "        prize = \"a penguin\"\n",
    "\n",
    "    if prize:\n",
    "        print(f\"you got {prize}\")\n",
    "    else:\n",
    "        print(\"sorry you don't get any prize\")\n",
    "\n",
    "ok()"
   ]
  },
  {
   "cell_type": "code",
   "execution_count": null,
   "id": "b8040aae-3a8c-4c08-be17-0074dc9b3670",
   "metadata": {},
   "outputs": [],
   "source": []
  },
  {
   "cell_type": "code",
   "execution_count": null,
   "id": "a9695179-638d-4b11-ad0b-6c64b8e392a1",
   "metadata": {},
   "outputs": [],
   "source": []
  }
 ],
 "metadata": {
  "kernelspec": {
   "display_name": "Python 3 (ipykernel)",
   "language": "python",
   "name": "python3"
  },
  "language_info": {
   "codemirror_mode": {
    "name": "ipython",
    "version": 3
   },
   "file_extension": ".py",
   "mimetype": "text/x-python",
   "name": "python",
   "nbconvert_exporter": "python",
   "pygments_lexer": "ipython3",
   "version": "3.11.7"
  }
 },
 "nbformat": 4,
 "nbformat_minor": 5
}

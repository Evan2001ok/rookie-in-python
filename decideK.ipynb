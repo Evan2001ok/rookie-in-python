{
 "cells": [
  {
   "cell_type": "code",
   "execution_count": 22,
   "id": "b0c80564-4c74-449b-928c-8ff6ac7a05b1",
   "metadata": {},
   "outputs": [
    {
     "name": "stdout",
     "output_type": "stream",
     "text": [
      "true\n"
     ]
    }
   ],
   "source": [
    "def start_K(word):# function start_K，check first word in front of K or k. \n",
    "    first = word[0]\n",
    "    if first == \"K\" or first == \"k\":\n",
    "        print(\"true\")\n",
    "    else:\n",
    "        print(\"false\")\n",
    "start_K(\"Karl\")"
   ]
  },
  {
   "cell_type": "code",
   "execution_count": null,
   "id": "7ca4084b-a4ae-488f-b9cf-9591f0185879",
   "metadata": {},
   "outputs": [],
   "source": []
  }
 ],
 "metadata": {
  "kernelspec": {
   "display_name": "Python 3 (ipykernel)",
   "language": "python",
   "name": "python3"
  },
  "language_info": {
   "codemirror_mode": {
    "name": "ipython",
    "version": 3
   },
   "file_extension": ".py",
   "mimetype": "text/x-python",
   "name": "python",
   "nbconvert_exporter": "python",
   "pygments_lexer": "ipython3",
   "version": "3.11.7"
  }
 },
 "nbformat": 4,
 "nbformat_minor": 5
}

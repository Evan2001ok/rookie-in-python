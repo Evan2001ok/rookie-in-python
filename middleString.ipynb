{
 "cells": [
  {
   "cell_type": "code",
   "execution_count": 33,
   "id": "fbf5e877-947f-4d05-88a0-63540d2fd7c8",
   "metadata": {},
   "outputs": [
    {
     "data": {
      "text/plain": [
       "'aPple'"
      ]
     },
     "execution_count": 33,
     "metadata": {},
     "output_type": "execute_result"
    }
   ],
   "source": [
    "def middle(one,two,three):\n",
    "    first = 0\n",
    "    second = 0\n",
    "    third = 0\n",
    "    for x in range(len(one)):\n",
    "        first = ord(one[x]) + first\n",
    "    for y in range(len(two)):\n",
    "        second = ord(two[y]) + second \n",
    "    for z in range(len(three)):\n",
    "        third = ord(three[z]) + third\n",
    "    if first > second:\n",
    "        if first > third:\n",
    "            return three\n",
    "        else:\n",
    "            return one\n",
    "    else:\n",
    "        if second < third:\n",
    "            return two\n",
    "        else:\n",
    "            return three\n",
    "middle('Apple', 'applE', 'aPple')"
   ]
  },
  {
   "cell_type": "code",
   "execution_count": null,
   "id": "16770f35-51a6-45c0-b0cc-2c729ceb4b55",
   "metadata": {},
   "outputs": [],
   "source": []
  }
 ],
 "metadata": {
  "kernelspec": {
   "display_name": "Python 3 (ipykernel)",
   "language": "python",
   "name": "python3"
  },
  "language_info": {
   "codemirror_mode": {
    "name": "ipython",
    "version": 3
   },
   "file_extension": ".py",
   "mimetype": "text/x-python",
   "name": "python",
   "nbconvert_exporter": "python",
   "pygments_lexer": "ipython3",
   "version": "3.11.7"
  }
 },
 "nbformat": 4,
 "nbformat_minor": 5
}

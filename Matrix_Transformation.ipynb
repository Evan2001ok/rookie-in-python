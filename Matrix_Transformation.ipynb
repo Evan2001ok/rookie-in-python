{
 "cells": [
  {
   "cell_type": "code",
   "execution_count": null,
   "id": "d02cfe02-3073-4dba-9de3-25e2b50496eb",
   "metadata": {},
   "outputs": [],
   "source": [
    "data = ((0, 1, 2), (3, 4, 5), (6, 7, 8), (9, 10, 11))\n",
    "\n",
    "data_transpose = # replace with your code\n",
    "print(data_transpose)"
   ]
  }
 ],
 "metadata": {
  "kernelspec": {
   "display_name": "Python 3 (ipykernel)",
   "language": "python",
   "name": "python3"
  },
  "language_info": {
   "codemirror_mode": {
    "name": "ipython",
    "version": 3
   },
   "file_extension": ".py",
   "mimetype": "text/x-python",
   "name": "python",
   "nbconvert_exporter": "python",
   "pygments_lexer": "ipython3",
   "version": "3.11.7"
  }
 },
 "nbformat": 4,
 "nbformat_minor": 5
}

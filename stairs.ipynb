{
 "cells": [
  {
   "cell_type": "code",
   "execution_count": 1,
   "id": "6fc74939-0445-46ca-a950-c6c1637bd181",
   "metadata": {},
   "outputs": [],
   "source": [
    "import turtle\n",
    "myturtle = turtle.Turtle()\n",
    "\n",
    "def stairs():\n",
    "    myturtle.color(\"red\")\n",
    "    for side in range(10):\n",
    "        if side % 2 == 0:\n",
    "            myturtle.forward(100)\n",
    "            myturtle.left(90)\n",
    "        else:    \n",
    "            myturtle.forward(100)\n",
    "            myturtle.right(90)\n",
    "stairs()"
   ]
  },
  {
   "cell_type": "code",
   "execution_count": null,
   "id": "71b8be6f-cfdf-48fb-ae11-61842c0f6a2f",
   "metadata": {},
   "outputs": [],
   "source": []
  }
 ],
 "metadata": {
  "kernelspec": {
   "display_name": "Python 3 (ipykernel)",
   "language": "python",
   "name": "python3"
  },
  "language_info": {
   "codemirror_mode": {
    "name": "ipython",
    "version": 3
   },
   "file_extension": ".py",
   "mimetype": "text/x-python",
   "name": "python",
   "nbconvert_exporter": "python",
   "pygments_lexer": "ipython3",
   "version": "3.11.7"
  }
 },
 "nbformat": 4,
 "nbformat_minor": 5
}

{
 "cells": [
  {
   "cell_type": "code",
   "execution_count": 1,
   "id": "c0b9c00b-5769-438f-98e0-3914c7a06335",
   "metadata": {},
   "outputs": [],
   "source": [
    "import turtle\n",
    "\n",
    "def spiral(sides,angle,color,width):\n",
    "    amy = turtle.Turtle()\n",
    "    turtle.bgcolor(\"black\")\n",
    "    amy.color(color)\n",
    "    amy.width(width)\n",
    "    for side in range(sides):\n",
    "        amy.forward(side)\n",
    "        amy.right(angle)\n",
    "spiral(90,50,\"cyan\",5)\n"
   ]
  },
  {
   "cell_type": "code",
   "execution_count": 2,
   "id": "e164c5d8-a50a-430d-adf7-9cba50dc75d0",
   "metadata": {},
   "outputs": [],
   "source": [
    "import turtle\n",
    "turtle.bgcolor(\"black\")\n",
    "jack = turtle.Turtle()\n",
    "def draw_square(side,length,angle, color):\n",
    "    \n",
    "    jack.color(color)\n",
    "    for side in range(side):\n",
    "        jack.forward(length)\n",
    "        jack.right(angle)\n",
    "draw_square(4,100,90,\"yellow\")\n",
    "jack.forward(100)\n",
    "draw_square(4,100,90,\"yellow\")\n",
    "jack.forward(100)\n",
    "draw_square(4,100,90,\"yellow\")"
   ]
  },
  {
   "cell_type": "code",
   "execution_count": null,
   "id": "52e04c04-fc61-494b-8532-a1bd8fd36ec5",
   "metadata": {},
   "outputs": [],
   "source": []
  }
 ],
 "metadata": {
  "kernelspec": {
   "display_name": "Python 3 (ipykernel)",
   "language": "python",
   "name": "python3"
  },
  "language_info": {
   "codemirror_mode": {
    "name": "ipython",
    "version": 3
   },
   "file_extension": ".py",
   "mimetype": "text/x-python",
   "name": "python",
   "nbconvert_exporter": "python",
   "pygments_lexer": "ipython3",
   "version": "3.11.7"
  }
 },
 "nbformat": 4,
 "nbformat_minor": 5
}

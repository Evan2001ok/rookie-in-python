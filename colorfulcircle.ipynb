{
 "cells": [
  {
   "cell_type": "code",
   "execution_count": 21,
   "id": "f8f88875-8bf4-42e1-ab5b-18cb90cfb193",
   "metadata": {},
   "outputs": [],
   "source": [
    "import turtle\n",
    "jack = turtle.Turtle()\n",
    "jack.color(\"yellow\")\n",
    "\n",
    "for side in range(4):\n",
    "    if side == 1:\n",
    "        jack.color(\"blue\")\n",
    "    if side == 2:\n",
    "        jack.color(\"yellow\")\n",
    "    jack.forward(100)\n",
    "    jack.right(90)\n",
    "\n",
    "    \n",
    "    "
   ]
  },
  {
   "cell_type": "code",
   "execution_count": null,
   "id": "9b8a3af6-2190-4ffe-8e6a-4efe2972180a",
   "metadata": {},
   "outputs": [],
   "source": []
  },
  {
   "cell_type": "code",
   "execution_count": null,
   "id": "4920bd40-2862-4f07-9815-8ab5762c75e0",
   "metadata": {},
   "outputs": [],
   "source": []
  }
 ],
 "metadata": {
  "kernelspec": {
   "display_name": "Python 3 (ipykernel)",
   "language": "python",
   "name": "python3"
  },
  "language_info": {
   "codemirror_mode": {
    "name": "ipython",
    "version": 3
   },
   "file_extension": ".py",
   "mimetype": "text/x-python",
   "name": "python",
   "nbconvert_exporter": "python",
   "pygments_lexer": "ipython3",
   "version": "3.11.7"
  }
 },
 "nbformat": 4,
 "nbformat_minor": 5
}

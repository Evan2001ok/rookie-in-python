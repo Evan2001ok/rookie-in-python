{
 "cells": [
  {
   "cell_type": "code",
   "execution_count": 4,
   "id": "185f0c5d-ff6c-4afa-8ff4-9c5532567ca5",
   "metadata": {},
   "outputs": [],
   "source": [
    "import turtle\n",
    "balls = turtle.Turtle()\n",
    "    \n",
    "\n",
    "        \n",
    "def hexagon():\n",
    "    balls.left(80)\n",
    "    for nums in range(12):\n",
    "        balls.forward(10)\n",
    "        balls.right(30)\n",
    "    balls.right(80)\n",
    "    \n",
    "\n",
    "def Balls(nums):\n",
    "        if nums % 3 == 0:\n",
    "            return \"red\"\n",
    "        else:\n",
    "            if nums % 3 == 1:\n",
    "                return\"green\"\n",
    "            else:\n",
    "                return\"blue\"\n",
    "        \n",
    "for num in range(10):\n",
    "    cl = Balls(num)\n",
    "    balls.color(cl)\n",
    "    hexagon()\n",
    "    balls.forward(40)"
   ]
  }
 ],
 "metadata": {
  "kernelspec": {
   "display_name": "Python 3 (ipykernel)",
   "language": "python",
   "name": "python3"
  },
  "language_info": {
   "codemirror_mode": {
    "name": "ipython",
    "version": 3
   },
   "file_extension": ".py",
   "mimetype": "text/x-python",
   "name": "python",
   "nbconvert_exporter": "python",
   "pygments_lexer": "ipython3",
   "version": "3.11.7"
  }
 },
 "nbformat": 4,
 "nbformat_minor": 5
}

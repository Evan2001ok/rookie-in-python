{
 "cells": [
  {
   "cell_type": "code",
   "execution_count": 7,
   "id": "0db78cfd-3d2f-40b7-a2e7-2a35983ea3c4",
   "metadata": {},
   "outputs": [],
   "source": [
    "import turtle\n",
    "\n",
    "romeo = turtle.Turtle()\n",
    "juliet = turtle.Turtle()\n",
    "\n",
    "juliet.color(\"misty rose\")\n",
    "juliet.width(3)\n",
    "\n",
    "romeo.color(\"violet\")\n",
    "romeo.width(3)\n",
    "\n",
    "romeo_last_name = \"montague\"\n",
    "\n",
    "\n",
    "romeo.left(40)\n",
    "romeo.forward(100)\n",
    "for side in range(185):\n",
    "    romeo.forward(1)\n",
    "    romeo.left(1)\n",
    "romeo.hideturtle()\n",
    "\n",
    "if romeo_last_name == \"montague\":\n",
    "    juliet.left(140)\n",
    "    juliet.forward(100)\n",
    "    for side in range(185):\n",
    "        juliet.forward(1)\n",
    "        juliet.right(1)"
   ]
  },
  {
   "cell_type": "code",
   "execution_count": null,
   "id": "aff235e5-c4fb-4259-a7b5-e6101f31b47b",
   "metadata": {},
   "outputs": [],
   "source": []
  }
 ],
 "metadata": {
  "kernelspec": {
   "display_name": "Python 3 (ipykernel)",
   "language": "python",
   "name": "python3"
  },
  "language_info": {
   "codemirror_mode": {
    "name": "ipython",
    "version": 3
   },
   "file_extension": ".py",
   "mimetype": "text/x-python",
   "name": "python",
   "nbconvert_exporter": "python",
   "pygments_lexer": "ipython3",
   "version": "3.11.7"
  }
 },
 "nbformat": 4,
 "nbformat_minor": 5
}

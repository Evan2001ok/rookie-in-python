{
 "cells": [
  {
   "cell_type": "code",
   "execution_count": 10,
   "id": "3233846e-fb3a-43a8-92f8-d97f228694f8",
   "metadata": {},
   "outputs": [
    {
     "name": "stdout",
     "output_type": "stream",
     "text": [
      "2\n"
     ]
    }
   ],
   "source": [
    "def Mark_Counter():\n",
    "    tokens = ['<greeting>', 'Hello World!', '</greeting>']\n",
    "    count = 0\n",
    "\n",
    "    # write your for loop here\n",
    "    for x in tokens:\n",
    "        if x.startswith('<') and x.endswith('>'):\n",
    "            count += 1     \n",
    "    print(count)\n",
    "Mark_Counter()"
   ]
  },
  {
   "cell_type": "code",
   "execution_count": null,
   "id": "568543f2-4be7-4d63-a829-a1988fe3219c",
   "metadata": {},
   "outputs": [],
   "source": []
  }
 ],
 "metadata": {
  "kernelspec": {
   "display_name": "Python 3 (ipykernel)",
   "language": "python",
   "name": "python3"
  },
  "language_info": {
   "codemirror_mode": {
    "name": "ipython",
    "version": 3
   },
   "file_extension": ".py",
   "mimetype": "text/x-python",
   "name": "python",
   "nbconvert_exporter": "python",
   "pygments_lexer": "ipython3",
   "version": "3.11.7"
  }
 },
 "nbformat": 4,
 "nbformat_minor": 5
}

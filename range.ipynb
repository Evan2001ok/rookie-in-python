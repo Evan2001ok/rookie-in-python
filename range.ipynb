{
 "cells": [
  {
   "cell_type": "code",
   "execution_count": null,
   "id": "87c43d96-ef00-4a17-a8fa-d5c4877099bd",
   "metadata": {},
   "outputs": [],
   "source": [
    "import turtle\n",
    "turtle.bgcolor(\"black\")\n",
    "amy = turtle.Turtle()\n",
    "amy.color(\"white\")\n",
    "sides = range(101)\n",
    "\n",
    "for side in sides:\n",
    "    amy.forward(1)\n",
    "    amy.right(3.6)"
   ]
  },
  {
   "cell_type": "code",
   "execution_count": null,
   "id": "30cfba68-ccac-4e35-863e-a3b6347e6ada",
   "metadata": {},
   "outputs": [],
   "source": []
  }
 ],
 "metadata": {
  "kernelspec": {
   "display_name": "Python 3 (ipykernel)",
   "language": "python",
   "name": "python3"
  },
  "language_info": {
   "codemirror_mode": {
    "name": "ipython",
    "version": 3
   },
   "file_extension": ".py",
   "mimetype": "text/x-python",
   "name": "python",
   "nbconvert_exporter": "python",
   "pygments_lexer": "ipython3",
   "version": "3.11.7"
  }
 },
 "nbformat": 4,
 "nbformat_minor": 5
}

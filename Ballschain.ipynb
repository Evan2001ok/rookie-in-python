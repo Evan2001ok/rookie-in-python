{
 "cells": [
  {
   "cell_type": "code",
   "execution_count": 1,
   "id": "700ff631-06de-46eb-a855-de08cf00b50f",
   "metadata": {},
   "outputs": [],
   "source": [
    "import turtle\n",
    "balls = turtle.Turtle()\n",
    "    \n",
    "\n",
    "def square():\n",
    "    sides = [10, 20, 20, 20, 10]\n",
    "    balls.left(90)\n",
    "    for nums in sides:\n",
    "        balls.forward(nums)\n",
    "        balls.right(90)\n",
    "        \n",
    "def hexagon():\n",
    "    balls.left(60)\n",
    "    for nums in range(6):\n",
    "        balls.forward(10)\n",
    "        balls.right(60)\n",
    "    balls.right(60)\n",
    "    \n",
    "def octagon():\n",
    "    balls.left(90)\n",
    "    sides = [4, 8, 8, 8, 8, 8, 8, 8, 4]\n",
    "    for nums in sides:\n",
    "        balls.forward(nums)\n",
    "        balls.right(45)\n",
    "    balls.right(45)\n",
    "\n",
    "def Balls():\n",
    "    for nums in range(16):\n",
    "        if nums % 3 == 0:\n",
    "            balls.color(\"red\")\n",
    "            square()\n",
    "            if nums % 5 == 0:\n",
    "                balls.color(\"green\")\n",
    "                hexagon()\n",
    "        else:\n",
    "            if nums % 5 == 0:\n",
    "                balls.color(\"green\")\n",
    "                hexagon()\n",
    "            else:\n",
    "                balls.color(\"grey\")\n",
    "                octagon()\n",
    "        balls.forward(20)\n",
    "\n",
    "Balls()"
   ]
  }
 ],
 "metadata": {
  "kernelspec": {
   "display_name": "Python 3 (ipykernel)",
   "language": "python",
   "name": "python3"
  },
  "language_info": {
   "codemirror_mode": {
    "name": "ipython",
    "version": 3
   },
   "file_extension": ".py",
   "mimetype": "text/x-python",
   "name": "python",
   "nbconvert_exporter": "python",
   "pygments_lexer": "ipython3",
   "version": "3.11.7"
  }
 },
 "nbformat": 4,
 "nbformat_minor": 5
}

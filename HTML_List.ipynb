{
 "cells": [
  {
   "cell_type": "code",
   "execution_count": 18,
   "id": "3233846e-fb3a-43a8-92f8-d97f228694f8",
   "metadata": {},
   "outputs": [
    {
     "name": "stdout",
     "output_type": "stream",
     "text": [
      "<ul>\n",
      "<li>first string</li>\n",
      "<li>second string</li>\n",
      "</ul>\n"
     ]
    }
   ],
   "source": [
    "def Mark_Counter():\n",
    "    items = ['first string', 'second string']\n",
    "    html_str = \"<ul>\\n\"  # \"\\ n\" is the character that marks the end of the line, it does\n",
    "                     # the characters that are after it in html_str are on the next line\n",
    "\n",
    "    # write your code here\n",
    "    for x in items:\n",
    "        html_str += \"<li>\" + x + \"</li>\\n\"\n",
    "    print(html_str + \"</ul>\")\n",
    "Mark_Counter()"
   ]
  },
  {
   "cell_type": "code",
   "execution_count": null,
   "id": "568543f2-4be7-4d63-a829-a1988fe3219c",
   "metadata": {},
   "outputs": [],
   "source": []
  }
 ],
 "metadata": {
  "kernelspec": {
   "display_name": "Python 3 (ipykernel)",
   "language": "python",
   "name": "python3"
  },
  "language_info": {
   "codemirror_mode": {
    "name": "ipython",
    "version": 3
   },
   "file_extension": ".py",
   "mimetype": "text/x-python",
   "name": "python",
   "nbconvert_exporter": "python",
   "pygments_lexer": "ipython3",
   "version": "3.11.7"
  }
 },
 "nbformat": 4,
 "nbformat_minor": 5
}

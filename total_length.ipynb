{
 "cells": [
  {
   "cell_type": "code",
   "execution_count": 14,
   "id": "932953c1-cb05-450a-af70-3fc5205acb1d",
   "metadata": {},
   "outputs": [
    {
     "data": {
      "text/plain": [
       "17"
      ]
     },
     "execution_count": 14,
     "metadata": {},
     "output_type": "execute_result"
    }
   ],
   "source": [
    "def total_length(word):\n",
    "    words = 0\n",
    "    for x in word:\n",
    "        words = len(x) + words\n",
    "    return words\n",
    "total_length([\"fucjs\", \"ssss\",\"ssssddds\"])"
   ]
  },
  {
   "cell_type": "code",
   "execution_count": null,
   "id": "dcfee3a3-9148-417b-a342-4e9d85c790a0",
   "metadata": {},
   "outputs": [],
   "source": []
  }
 ],
 "metadata": {
  "kernelspec": {
   "display_name": "Python 3 (ipykernel)",
   "language": "python",
   "name": "python3"
  },
  "language_info": {
   "codemirror_mode": {
    "name": "ipython",
    "version": 3
   },
   "file_extension": ".py",
   "mimetype": "text/x-python",
   "name": "python",
   "nbconvert_exporter": "python",
   "pygments_lexer": "ipython3",
   "version": "3.11.7"
  }
 },
 "nbformat": 4,
 "nbformat_minor": 5
}

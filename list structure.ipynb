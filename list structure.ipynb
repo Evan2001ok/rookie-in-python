{
 "cells": [
  {
   "cell_type": "code",
   "execution_count": 8,
   "id": "4cacc338-c412-40fa-a9d5-3629f4e59c51",
   "metadata": {},
   "outputs": [
    {
     "data": {
      "text/plain": [
       "['bunyip', 'crocodile', 'dingo', 'echidna', 'kangaroo', 'platypus', 'wallaby']"
      ]
     },
     "execution_count": 8,
     "metadata": {},
     "output_type": "execute_result"
    }
   ],
   "source": [
    "def word():\n",
    "    words = [\"echidna\", \"dingo\", \"crocodile\", \"bunyip\"]\n",
    "    words.append(\"platypus\")\n",
    "    words.extend([\"kangaroo\", \"wallaby\"])\n",
    "    words.reverse()\n",
    "    words.sort()\n",
    "    return words\n",
    "word()"
   ]
  },
  {
   "cell_type": "code",
   "execution_count": null,
   "id": "6b880e9d-2344-4940-a3d1-72177298981b",
   "metadata": {},
   "outputs": [],
   "source": []
  }
 ],
 "metadata": {
  "kernelspec": {
   "display_name": "Python 3 (ipykernel)",
   "language": "python",
   "name": "python3"
  },
  "language_info": {
   "codemirror_mode": {
    "name": "ipython",
    "version": 3
   },
   "file_extension": ".py",
   "mimetype": "text/x-python",
   "name": "python",
   "nbconvert_exporter": "python",
   "pygments_lexer": "ipython3",
   "version": "3.11.7"
  }
 },
 "nbformat": 4,
 "nbformat_minor": 5
}

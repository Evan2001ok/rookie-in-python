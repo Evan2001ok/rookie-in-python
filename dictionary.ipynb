{
 "cells": [
  {
   "cell_type": "code",
   "execution_count": null,
   "id": "4f4117ec-eb25-4f45-94e7-61ab89f6a91a",
   "metadata": {},
   "outputs": [],
   "source": [
    "import requests\n",
    "d = {'a':'agent','b':'boom','c':'chat'}\n",
    "d['d'] = 'doctor'\n",
    "d['a'] += ' and all'"
   ]
  }
 ],
 "metadata": {
  "kernelspec": {
   "display_name": "Python 3 (ipykernel)",
   "language": "python",
   "name": "python3"
  },
  "language_info": {
   "codemirror_mode": {
    "name": "ipython",
    "version": 3
   },
   "file_extension": ".py",
   "mimetype": "text/x-python",
   "name": "python",
   "nbconvert_exporter": "python",
   "pygments_lexer": "ipython3",
   "version": "3.11.7"
  }
 },
 "nbformat": 4,
 "nbformat_minor": 5
}

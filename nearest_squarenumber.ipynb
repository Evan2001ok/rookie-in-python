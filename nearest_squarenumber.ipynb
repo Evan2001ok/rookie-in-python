{
 "cells": [
  {
   "cell_type": "code",
   "execution_count": 33,
   "id": "3233846e-fb3a-43a8-92f8-d97f228694f8",
   "metadata": {
    "scrolled": true
   },
   "outputs": [
    {
     "name": "stdout",
     "output_type": "stream",
     "text": [
      "36\n"
     ]
    }
   ],
   "source": [
    "def nearest_squarenumber(limit):\n",
    "    numbers = 0\n",
    "    x = 0\n",
    "    while (x * x) < limit:\n",
    "        numbers = x * x\n",
    "        x += 1\n",
    "    print(numbers)\n",
    "nearest_squarenumber(40)"
   ]
  }
 ],
 "metadata": {
  "kernelspec": {
   "display_name": "Python 3 (ipykernel)",
   "language": "python",
   "name": "python3"
  },
  "language_info": {
   "codemirror_mode": {
    "name": "ipython",
    "version": 3
   },
   "file_extension": ".py",
   "mimetype": "text/x-python",
   "name": "python",
   "nbconvert_exporter": "python",
   "pygments_lexer": "ipython3",
   "version": "3.11.7"
  }
 },
 "nbformat": 4,
 "nbformat_minor": 5
}

{
 "cells": [
  {
   "cell_type": "code",
   "execution_count": 1,
   "id": "4679eb37-4be7-4c39-a153-ca57da716db6",
   "metadata": {},
   "outputs": [],
   "source": [
    "import turtle\n",
    "def star(color, sides, length, angle, distance):\n",
    "    galileo = turtle.Turtle()\n",
    "    galileo.color(color)  # colorful!\n",
    "    galileo.width(5)  # visible!\n",
    "    galileo.speed(0)  # fast!\n",
    "    galileo.penup()\n",
    "    galileo.left(angle)  # away from center\n",
    "    galileo.forward(distance)\n",
    "    galileo.pendown()  # start drawing\n",
    "    for side in range(sides):\n",
    "        galileo.forward(length)\n",
    "        galileo.left(720 / sides)\n",
    "    galileo.hideturtle()  # just the star\n",
    "for angle in [180, 135, 90, 45, 0]:\n",
    "    star(\"red\", 5, 60, angle, 100)\n",
    "for angle in [180, 135, 90, 45, 0]:\n",
    "    star(\"blue\", 5, 20, angle, 60)"
   ]
  },
  {
   "cell_type": "code",
   "execution_count": null,
   "id": "72bf852c-03cb-4c70-8e58-b4828abf7e88",
   "metadata": {},
   "outputs": [],
   "source": []
  }
 ],
 "metadata": {
  "kernelspec": {
   "display_name": "Python 3 (ipykernel)",
   "language": "python",
   "name": "python3"
  },
  "language_info": {
   "codemirror_mode": {
    "name": "ipython",
    "version": 3
   },
   "file_extension": ".py",
   "mimetype": "text/x-python",
   "name": "python",
   "nbconvert_exporter": "python",
   "pygments_lexer": "ipython3",
   "version": "3.11.7"
  }
 },
 "nbformat": 4,
 "nbformat_minor": 5
}

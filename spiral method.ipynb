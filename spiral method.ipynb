{
 "cells": [
  {
   "cell_type": "code",
   "execution_count": null,
   "id": "c0b9c00b-5769-438f-98e0-3914c7a06335",
   "metadata": {},
   "outputs": [],
   "source": [
    "import turtle\n",
    "\n",
    "def spiral():\n",
    "    amy = turtle.Turtle()\n",
    "    turtle.bgcolor(\"black\")\n",
    "    amy.color(\"purple\")\n",
    "    sides = range(100)\n",
    "    for side in sides:\n",
    "        amy.forward(side)\n",
    "        amy.right(20)\n",
    "\n",
    "spiral()\n"
   ]
  },
  {
   "cell_type": "code",
   "execution_count": null,
   "id": "a57e9d2e-cc97-461d-bbed-578f5c65ad48",
   "metadata": {},
   "outputs": [],
   "source": []
  }
 ],
 "metadata": {
  "kernelspec": {
   "display_name": "Python 3 (ipykernel)",
   "language": "python",
   "name": "python3"
  },
  "language_info": {
   "codemirror_mode": {
    "name": "ipython",
    "version": 3
   },
   "file_extension": ".py",
   "mimetype": "text/x-python",
   "name": "python",
   "nbconvert_exporter": "python",
   "pygments_lexer": "ipython3",
   "version": "3.11.7"
  }
 },
 "nbformat": 4,
 "nbformat_minor": 5
}

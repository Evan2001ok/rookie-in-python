{
 "cells": [
  {
   "cell_type": "code",
   "execution_count": 1,
   "id": "d6eb6db4-bd71-46ff-b80c-0de58d7de9f2",
   "metadata": {},
   "outputs": [],
   "source": [
    "import turtle\n",
    "terry = turtle.Turtle()\n",
    "turtle.bgcolor(\"black\")\n",
    "colors = [\"red\",\"orange\",\"yellow\",\"green\",\"blue\",\"purple\"]\n",
    "terry.width(5)\n",
    "sides = [1,2,3,4,5]\n",
    "for color in colors:\n",
    "    terry.color(color)\n",
    "    for side in sides:\n",
    "        terry.forward(100)\n",
    "        terry.right(144)\n",
    "    terry.penup()\n",
    "    terry.right(60)\n",
    "    terry.forward(100)\n",
    "    terry.pendown()\n",
    "    terry.hideturtle()"
   ]
  }
 ],
 "metadata": {
  "kernelspec": {
   "display_name": "Python 3 (ipykernel)",
   "language": "python",
   "name": "python3"
  },
  "language_info": {
   "codemirror_mode": {
    "name": "ipython",
    "version": 3
   },
   "file_extension": ".py",
   "mimetype": "text/x-python",
   "name": "python",
   "nbconvert_exporter": "python",
   "pygments_lexer": "ipython3",
   "version": "3.11.7"
  }
 },
 "nbformat": 4,
 "nbformat_minor": 5
}

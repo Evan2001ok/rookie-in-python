{
 "cells": [
  {
   "cell_type": "code",
   "execution_count": 1,
   "id": "6fc74939-0445-46ca-a950-c6c1637bd181",
   "metadata": {},
   "outputs": [],
   "source": [
    "import turtle\n",
    "threecycle = turtle.Turtle()\n",
    "def ThreeCycle():\n",
    "    for x in range(12):\n",
    "        if x % 3 == 0:\n",
    "            threecycle.color(\"red\")\n",
    "        if x % 3 == 1:\n",
    "            threecycle.color(\"orange\")\n",
    "        if x % 3 == 2:\n",
    "            threecycle.color(\"yellow\")\n",
    "        threecycle.forward(100)\n",
    "        threecycle.right(30)\n",
    "ThreeCycle()"
   ]
  },
  {
   "cell_type": "code",
   "execution_count": null,
   "id": "d7db1d6e-f1bf-4206-8de5-1126518bb420",
   "metadata": {},
   "outputs": [],
   "source": []
  }
 ],
 "metadata": {
  "kernelspec": {
   "display_name": "Python 3 (ipykernel)",
   "language": "python",
   "name": "python3"
  },
  "language_info": {
   "codemirror_mode": {
    "name": "ipython",
    "version": 3
   },
   "file_extension": ".py",
   "mimetype": "text/x-python",
   "name": "python",
   "nbconvert_exporter": "python",
   "pygments_lexer": "ipython3",
   "version": "3.11.7"
  }
 },
 "nbformat": 4,
 "nbformat_minor": 5
}

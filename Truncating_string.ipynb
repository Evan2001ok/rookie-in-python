{
 "cells": [
  {
   "cell_type": "code",
   "execution_count": 5,
   "id": "7b1ac817-784e-4fd2-8485-62e9386a09cb",
   "metadata": {},
   "outputs": [
    {
     "name": "stdout",
     "output_type": "stream",
     "text": [
      "Local Bear Eaten by Man\n"
     ]
    }
   ],
   "source": [
    "def ok():\n",
    "# HINT: modify the headlines list to verify your loop works with different inputs\n",
    "    headlines = [\"Local Bear Eaten by Man\",\n",
    "                 \"Legislature Announces New Laws\",\n",
    "                 \"Peasant Discovers Violence Inherent in System\",\n",
    "                 \"Cat Rescues Fireman Stuck in Tree\",\n",
    "                 \"Brave Knight Runs Away\",\n",
    "                 \"Papperbok Review: Totally Triffic\"]\n",
    "    \n",
    "    news_ticker = \"\"\n",
    "    # write your loop here\n",
    "    for x in headlines:\n",
    "        news_ticker += x\n",
    "        if len(news_ticker) >= 140:\n",
    "            news_ticker = news_ticker[:140]    \n",
    "        break\n",
    "    print(news_ticker)\n",
    "ok()"
   ]
  },
  {
   "cell_type": "code",
   "execution_count": null,
   "id": "0c178bb3-b7ab-43d2-9e3a-580d2acc9e95",
   "metadata": {},
   "outputs": [],
   "source": []
  }
 ],
 "metadata": {
  "kernelspec": {
   "display_name": "Python 3 (ipykernel)",
   "language": "python",
   "name": "python3"
  },
  "language_info": {
   "codemirror_mode": {
    "name": "ipython",
    "version": 3
   },
   "file_extension": ".py",
   "mimetype": "text/x-python",
   "name": "python",
   "nbconvert_exporter": "python",
   "pygments_lexer": "ipython3",
   "version": "3.11.7"
  }
 },
 "nbformat": 4,
 "nbformat_minor": 5
}

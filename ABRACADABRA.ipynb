{
 "cells": [
  {
   "cell_type": "code",
   "execution_count": 16,
   "id": "845555dd-87bc-45c5-aed9-bf40188f31dd",
   "metadata": {},
   "outputs": [
    {
     "name": "stdout",
     "output_type": "stream",
     "text": [
      "kitten\n",
      "kitte\n",
      "kitt\n",
      "kit\n",
      "ki\n",
      "k\n"
     ]
    }
   ],
   "source": [
    "def word_trangle(word):\n",
    "    length = len(word)\n",
    "    for n in range(length):\n",
    "        print(word[0:length - n])\n",
    "word_trangle(\"kitten\")\n"
   ]
  },
  {
   "cell_type": "code",
   "execution_count": null,
   "id": "2a46b2d2-4db0-4a77-ab6a-a49913886a1f",
   "metadata": {},
   "outputs": [],
   "source": []
  }
 ],
 "metadata": {
  "kernelspec": {
   "display_name": "Python 3 (ipykernel)",
   "language": "python",
   "name": "python3"
  },
  "language_info": {
   "codemirror_mode": {
    "name": "ipython",
    "version": 3
   },
   "file_extension": ".py",
   "mimetype": "text/x-python",
   "name": "python",
   "nbconvert_exporter": "python",
   "pygments_lexer": "ipython3",
   "version": "3.11.7"
  }
 },
 "nbformat": 4,
 "nbformat_minor": 5
}

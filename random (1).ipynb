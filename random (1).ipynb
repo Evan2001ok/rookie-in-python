{
 "cells": [
  {
   "cell_type": "code",
   "execution_count": 3,
   "id": "068e885b-493c-49e4-8d1f-f7182950a2c7",
   "metadata": {},
   "outputs": [],
   "source": [
    "import random\n",
    "import turtle \n",
    "\n",
    "def die_roll():\n",
    "    return random.randint(5,20)\n",
    "def length_roll():\n",
    "    return random.randint(10,20)\n",
    "def forward_roll():\n",
    "    return random.randint(1,30)\n",
    "\n",
    "    \n",
    "def randomdraw(times):\n",
    "    x = turtle.Turtle()\n",
    "    for side in range(times):\n",
    "        roll = die_roll()\n",
    "        x.width(roll)\n",
    "        length = length_roll()\n",
    "        x.left(length)\n",
    "        long = forward_roll()\n",
    "        x.forward(long)\n",
    "        col = [\"red\", \"green\", \"yellow\", \"black\", \"purple\", \"grey\"]\n",
    "        mycolor = random.choice(col)\n",
    "        x.color(mycolor)\n",
    "randomdraw(300)"
   ]
  },
  {
   "cell_type": "code",
   "execution_count": null,
   "id": "b5c189fa-f687-43f1-870d-72ea6ff3e46f",
   "metadata": {},
   "outputs": [],
   "source": []
  }
 ],
 "metadata": {
  "kernelspec": {
   "display_name": "Python 3 (ipykernel)",
   "language": "python",
   "name": "python3"
  },
  "language_info": {
   "codemirror_mode": {
    "name": "ipython",
    "version": 3
   },
   "file_extension": ".py",
   "mimetype": "text/x-python",
   "name": "python",
   "nbconvert_exporter": "python",
   "pygments_lexer": "ipython3",
   "version": "3.11.7"
  }
 },
 "nbformat": 4,
 "nbformat_minor": 5
}

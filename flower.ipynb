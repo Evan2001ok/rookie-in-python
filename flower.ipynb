{
 "cells": [
  {
   "cell_type": "code",
   "execution_count": 2,
   "id": "4e65dfab-0a1c-4753-aead-47c95b19e236",
   "metadata": {},
   "outputs": [],
   "source": [
    "import turtle\n",
    "some_turtle = turtle.Turtle()\n",
    "some_turtle.color(\"green\")\n",
    "def square(some_turtle):\n",
    "    for side in range(4):\n",
    "        some_turtle.forward(100)\n",
    "        some_turtle.right(90)\n",
    "\n",
    "for time in range(6):\n",
    "    square(some_turtle)\n",
    "    some_turtle.left(60)"
   ]
  }
 ],
 "metadata": {
  "kernelspec": {
   "display_name": "Python 3 (ipykernel)",
   "language": "python",
   "name": "python3"
  },
  "language_info": {
   "codemirror_mode": {
    "name": "ipython",
    "version": 3
   },
   "file_extension": ".py",
   "mimetype": "text/x-python",
   "name": "python",
   "nbconvert_exporter": "python",
   "pygments_lexer": "ipython3",
   "version": "3.11.7"
  }
 },
 "nbformat": 4,
 "nbformat_minor": 5
}

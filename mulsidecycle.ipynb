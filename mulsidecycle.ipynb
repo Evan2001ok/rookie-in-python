{
 "cells": [
  {
   "cell_type": "code",
   "execution_count": 3,
   "id": "7da47fb4-1e24-4b8e-bd5a-e3ac5a3b92dd",
   "metadata": {},
   "outputs": [],
   "source": [
    "import turtle\n",
    "myshape = turtle.Turtle()\n",
    "myshape.color(\"green\")\n",
    "def zoom(sides, length):\n",
    "    for side in range(sides):\n",
    "        myshape.forward(length)\n",
    "        angle = 360 / sides\n",
    "        myshape.right(angle)\n",
    "\n",
    "for angle in [3,4,5,6,7,8,9,10]:\n",
    "    zoom(angle, 100)\n"
   ]
  },
  {
   "cell_type": "code",
   "execution_count": null,
   "id": "0abc2a1b-cae0-40f0-91cb-8dc9255fce8c",
   "metadata": {},
   "outputs": [],
   "source": []
  }
 ],
 "metadata": {
  "kernelspec": {
   "display_name": "Python 3 (ipykernel)",
   "language": "python",
   "name": "python3"
  },
  "language_info": {
   "codemirror_mode": {
    "name": "ipython",
    "version": 3
   },
   "file_extension": ".py",
   "mimetype": "text/x-python",
   "name": "python",
   "nbconvert_exporter": "python",
   "pygments_lexer": "ipython3",
   "version": "3.11.7"
  }
 },
 "nbformat": 4,
 "nbformat_minor": 5
}
